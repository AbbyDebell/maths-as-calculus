{
 "cells": [
  {
   "cell_type": "markdown",
   "metadata": {},
   "source": [
    "# Derivative plotter\n",
    "\n",
    "We can use the `sympy` module to create functions, find derivatives, and plot them. (The plotting isn't great, but it'll do for now.)"
   ]
  },
  {
   "cell_type": "markdown",
   "metadata": {},
   "source": [
    "### Setup"
   ]
  },
  {
   "cell_type": "code",
   "execution_count": null,
   "metadata": {},
   "outputs": [],
   "source": [
    "# import everything from sympy - bad practice\n",
    "from sympy import *\n",
    "# I want to be able to do algebra on x and y\n",
    "x, y = symbols('x y')\n",
    "# Display algebra nicely\n",
    "init_printing()\n",
    "# Display graphs in the notebook\n",
    "%matplotlib inline"
   ]
  },
  {
   "cell_type": "markdown",
   "metadata": {},
   "source": [
    "### Define your function"
   ]
  },
  {
   "cell_type": "code",
   "execution_count": null,
   "metadata": {},
   "outputs": [],
   "source": [
    "# Define my Cartesian equation\n",
    "y = x**3+5*x**2+2*x-1\n",
    "y"
   ]
  },
  {
   "cell_type": "markdown",
   "metadata": {},
   "source": [
    "### Differentiate it"
   ]
  },
  {
   "cell_type": "code",
   "execution_count": null,
   "metadata": {},
   "outputs": [],
   "source": [
    "# Differentiate it\n",
    "dy_by_dx = diff(y)\n",
    "dy_by_dx"
   ]
  },
  {
   "cell_type": "markdown",
   "metadata": {},
   "source": [
    "### Plot them both"
   ]
  },
  {
   "cell_type": "code",
   "execution_count": null,
   "metadata": {
    "scrolled": true
   },
   "outputs": [],
   "source": [
    "# Plot them both\n",
    "# Over this domain and range (change this to zoom in)\n",
    "x_domain = (-5,5)\n",
    "y_range = (-10,10)\n",
    "# Plot y= but don't show it yet\n",
    "p1 = plot(y, xlim=x_domain, ylim=y_range, line_color='blue', show=False)\n",
    "# Plot the derivative\n",
    "p2 = plot(dy_by_dx, xlim=x_domain, ylim=y_range, line_color=['red','white'], show=False)\n",
    "# Put them on the same axes\n",
    "p1.extend(p2)\n",
    "# Now show it\n",
    "p1.show()"
   ]
  },
  {
   "cell_type": "markdown",
   "metadata": {},
   "source": [
    "## Task \n",
    "\n",
    "> Try out different cubic functions.\n",
    ">\n",
    "> Imagine walking the length of the blue curve.\n",
    ">\n",
    "> What does the value of the derivative tell you about the direction you are facing?"
   ]
  }
 ],
 "metadata": {
  "kernelspec": {
   "display_name": "Python 3",
   "language": "python",
   "name": "python3"
  },
  "language_info": {
   "codemirror_mode": {
    "name": "ipython",
    "version": 3
   },
   "file_extension": ".py",
   "mimetype": "text/x-python",
   "name": "python",
   "nbconvert_exporter": "python",
   "pygments_lexer": "ipython3",
   "version": "3.5.2"
  }
 },
 "nbformat": 4,
 "nbformat_minor": 2
}
